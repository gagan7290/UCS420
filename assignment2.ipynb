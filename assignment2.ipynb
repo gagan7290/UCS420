{
  "nbformat": 4,
  "nbformat_minor": 0,
  "metadata": {
    "colab": {
      "provenance": []
    },
    "kernelspec": {
      "name": "python3",
      "display_name": "Python 3"
    },
    "language_info": {
      "name": "python"
    }
  },
  "cells": [
    {
      "cell_type": "code",
      "execution_count": 1,
      "metadata": {
        "colab": {
          "base_uri": "https://localhost:8080/"
        },
        "id": "6_4SaEPiGZH_",
        "outputId": "b558dde4-b99a-4f0d-a34f-692e8a6e69bb"
      },
      "outputs": [
        {
          "output_type": "stream",
          "name": "stdout",
          "text": [
            "After adding 200 and 300: [10, 20, 30, 40, 50, 60, 70, 80, 200, 300]\n",
            "After removing 10 and 30: [20, 40, 50, 60, 70, 80, 200, 300]\n",
            "Sorted in ascending order: [20, 40, 50, 60, 70, 80, 200, 300]\n",
            "Sorted in descending order: [300, 200, 80, 70, 60, 50, 40, 20]\n"
          ]
        }
      ],
      "source": [
        "#Assignment 2 (Cognitive Computing)\n",
        "#NAME: Gagandeep Singh\n",
        "#Roll No: 102317290\n",
        "\n",
        "#Q1 list operations\n",
        "\n",
        "\n",
        "L = [10, 20, 30, 40, 50, 60, 70, 80]\n",
        "\n",
        "# (i) Add 200 and 300 to L\n",
        "L.append(200)\n",
        "L.append(300)\n",
        "print(\"After adding 200 and 300:\", L)\n",
        "\n",
        "# (ii) Remove 10 and 30 from L\n",
        "L.remove(10)\n",
        "L.remove(30)\n",
        "print(\"After removing 10 and 30:\", L)\n",
        "\n",
        "# (iii) Sort L in ascending order\n",
        "L.sort()\n",
        "print(\"Sorted in ascending order:\", L)\n",
        "\n",
        "# (iv) Sort L in descending order\n",
        "L.sort(reverse=True)\n",
        "print(\"Sorted in descending order:\", L)\n",
        "\n"
      ]
    },
    {
      "cell_type": "code",
      "source": [
        "#Q2 Operations on tuple\n",
        "\n",
        "scores = (45, 89.5, 76, 45.4, 89, 92, 58, 45)\n",
        "\n",
        "# (i) Highest score and its index in the tuple\n",
        "highest_score = max(scores)\n",
        "print(f\"Highest score: {highest_score}, at index: {scores.index(highest_score) }\")\n",
        "\n",
        "# (ii) Lowest score and its count\n",
        "lowest_score = min(scores)\n",
        "print(f\"Lowest score: {lowest_score}, appears {scores.count(lowest_score)} time(s)\")\n",
        "\n",
        "# (iii) Reverse the tuple and return it as a list\n",
        "reversed_scores = list(reversed(scores))\n",
        "print(\"Reversed tuple as list:\", reversed_scores)\n",
        "\n",
        "# (iv) Check if a specific score ‘76’ is present\n",
        "user_input = int(input(\"Enter the score to check: \"))\n",
        "\n",
        "if user_input in scores:\n",
        "    print(f\"The score {user_input} is present at index {scores.index(user_input) }\")\n",
        "else:\n",
        "    print(f\"The score {user_input} is not present in the tuple\")\n"
      ],
      "metadata": {
        "colab": {
          "base_uri": "https://localhost:8080/"
        },
        "id": "wIaG1Ni7HPEB",
        "outputId": "6a9b3220-55a3-4085-8389-602b8b888328"
      },
      "execution_count": 3,
      "outputs": [
        {
          "output_type": "stream",
          "name": "stdout",
          "text": [
            "Highest score: 92, at index: 5\n",
            "Lowest score: 45, appears 2 time(s)\n",
            "Reversed tuple as list: [45, 58, 92, 89, 45.4, 76, 89.5, 45]\n",
            "Enter the score to check: 76\n",
            "The score 76 is present at index 2\n"
          ]
        }
      ]
    },
    {
      "cell_type": "code",
      "source": [
        "import random\n",
        "\n",
        "def is_prime(num):\n",
        "    for i in range(2, int(num ** 0.5) + 1):\n",
        "        if num % i == 0:\n",
        "            return False\n",
        "    return True\n",
        "\n",
        "random_numbers = [random.randint(100, 900) for _ in range(100)]\n",
        "\n",
        "odd_numbers = [num for num in random_numbers if num % 2 != 0]\n",
        "even_numbers = [num for num in random_numbers if num % 2 == 0]\n",
        "prime_numbers = [num for num in random_numbers if is_prime(num)]\n",
        "\n",
        "\n",
        "print(f\"List of 100 random numbers: {random_numbers}\")\n",
        "print(f\"\\nCount of odd numbers: {len(odd_numbers)}\")\n",
        "print(f\"Odd numbers: {odd_numbers}\")\n",
        "print(f\"\\nCount of even numbers: {len(even_numbers)}\")\n",
        "print(f\"Even numbers: {even_numbers}\")\n",
        "print(f\"\\nCount of prime numbers: {len(prime_numbers)}\")\n",
        "print(f\"Prime numbers: {prime_numbers}\")\n"
      ],
      "metadata": {
        "colab": {
          "base_uri": "https://localhost:8080/"
        },
        "id": "FH_kyArsI_6c",
        "outputId": "58346307-3ebb-49a3-bb04-80c41c600899"
      },
      "execution_count": 4,
      "outputs": [
        {
          "output_type": "stream",
          "name": "stdout",
          "text": [
            "List of 100 random numbers: [161, 139, 345, 869, 210, 431, 332, 370, 374, 285, 835, 288, 827, 838, 623, 503, 324, 798, 132, 514, 166, 475, 703, 590, 443, 878, 392, 852, 713, 600, 564, 430, 371, 768, 753, 302, 394, 365, 696, 143, 272, 724, 473, 271, 169, 652, 670, 791, 394, 666, 665, 169, 358, 426, 503, 260, 213, 483, 725, 668, 469, 537, 473, 467, 450, 837, 669, 156, 565, 272, 462, 897, 346, 653, 554, 692, 826, 106, 567, 733, 487, 495, 637, 544, 166, 453, 846, 581, 260, 582, 191, 797, 696, 376, 241, 515, 504, 181, 409, 705]\n",
            "\n",
            "Count of odd numbers: 51\n",
            "Odd numbers: [161, 139, 345, 869, 431, 285, 835, 827, 623, 503, 475, 703, 443, 713, 371, 753, 365, 143, 473, 271, 169, 791, 665, 169, 503, 213, 483, 725, 469, 537, 473, 467, 837, 669, 565, 897, 653, 567, 733, 487, 495, 637, 453, 581, 191, 797, 241, 515, 181, 409, 705]\n",
            "\n",
            "Count of even numbers: 49\n",
            "Even numbers: [210, 332, 370, 374, 288, 838, 324, 798, 132, 514, 166, 590, 878, 392, 852, 600, 564, 430, 768, 302, 394, 696, 272, 724, 652, 670, 394, 666, 358, 426, 260, 668, 450, 156, 272, 462, 346, 554, 692, 826, 106, 544, 166, 846, 260, 582, 696, 376, 504]\n",
            "\n",
            "Count of prime numbers: 16\n",
            "Prime numbers: [139, 431, 827, 503, 443, 271, 503, 467, 653, 733, 487, 191, 797, 241, 181, 409]\n"
          ]
        }
      ]
    },
    {
      "cell_type": "code",
      "source": [
        "\n",
        "A = {34, 56, 78, 90}\n",
        "B = {78, 45, 90, 23}\n",
        "\n",
        "# (i) Unique scores achieved by both teams\n",
        "print(f\"Unique scores (Union): {A | B}\")\n",
        "\n",
        "# (ii) Scores common to both teams\n",
        "print(f\"Common scores (Intersection): {A & B}\")\n",
        "\n",
        "# (iii) Scores exclusive to each team\n",
        "print(f\"Exclusive scores (Symmetric Difference): {A ^ B}\")\n",
        "\n",
        "# (iv) Check if A is a subset of B and if B is a superset of A\n",
        "print(f\"Is A a subset of B? {A.issubset(B)}\")\n",
        "print(f\"Is B a superset of A? {B.issuperset(A)}\")\n",
        "\n",
        "# (v) Remove a specific score X from set A if it exists\n",
        "X = int(input(\"Enter a score to remove from set A: \"))\n",
        "if X in A:\n",
        "    A.remove(X)\n",
        "    print(f\"Score {X} removed from set A. Updated set A: {A}\")\n",
        "else:\n",
        "    print(f\"Score {X} is not present in set A.\")\n"
      ],
      "metadata": {
        "colab": {
          "base_uri": "https://localhost:8080/"
        },
        "id": "I8sH82KQKFGY",
        "outputId": "7734f9a0-bede-4ee2-8341-d06e9bb7c8e9"
      },
      "execution_count": 7,
      "outputs": [
        {
          "output_type": "stream",
          "name": "stdout",
          "text": [
            "Unique scores (Union): {34, 45, 78, 23, 56, 90}\n",
            "Common scores (Intersection): {90, 78}\n",
            "Exclusive scores (Symmetric Difference): {34, 45, 23, 56}\n",
            "Is A a subset of B? False\n",
            "Is B a superset of A? False\n",
            "Enter a score to remove from set A: 78\n",
            "Score 78 removed from set A. Updated set A: {56, 34, 90}\n"
          ]
        }
      ]
    },
    {
      "cell_type": "code",
      "source": [
        "\n",
        "sample_dict = {\n",
        "    \"name\": \"Kelly\",\n",
        "    \"age\": 25,\n",
        "    \"salary\": 8000,\n",
        "    \"city\": \"New york\"\n",
        "}\n",
        "\n",
        "sample_dict[\"location\"] = sample_dict.pop(\"city\")\n",
        "\n",
        "print(sample_dict)\n"
      ],
      "metadata": {
        "colab": {
          "base_uri": "https://localhost:8080/"
        },
        "id": "7P_EBaCwPFdg",
        "outputId": "eb51cc67-3d2c-4e67-fa33-f7fbb2aca5d9"
      },
      "execution_count": 9,
      "outputs": [
        {
          "output_type": "stream",
          "name": "stdout",
          "text": [
            "{'name': 'Kelly', 'age': 25, 'salary': 8000, 'location': 'New york'}\n"
          ]
        }
      ]
    }
  ]
}