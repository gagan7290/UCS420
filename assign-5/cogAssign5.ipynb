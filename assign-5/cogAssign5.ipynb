{
 "cells": [
  {
   "cell_type": "code",
   "execution_count": 1,
   "id": "ea9d0fe0",
   "metadata": {},
   "outputs": [
    {
     "name": "stdout",
     "output_type": "stream",
     "text": [
      "Matrix:\n",
      "[[ 4  1  9]\n",
      " [12  3  1]\n",
      " [ 4  5  6]]\n",
      "Sum of all elements: 45\n",
      "Sum of elements row-wise: [14, 16, 15]\n",
      "Sum of elements column-wise: [20, 9, 16]\n"
     ]
    }
   ],
   "source": [
    "import numpy as np\n",
    "import matplotlib.pyplot as plt\n",
    "\n",
    "# Question 1\n",
    "gfg = np.matrix('[4, 1, 9; 12, 3, 1; 4, 5, 6]')\n",
    "print(\"Matrix:\")\n",
    "print(gfg)\n",
    "print(\"Sum of all elements:\", gfg.sum())\n",
    "print(\"Sum of elements row-wise:\", gfg.sum(axis=1).flatten().tolist()[0])\n",
    "print(\"Sum of elements column-wise:\", gfg.sum(axis=0).flatten().tolist()[0])\n",
    "\n",
    "\n",
    "\n",
    "\n",
    "\n"
   ]
  },
  {
   "cell_type": "code",
   "execution_count": 2,
   "id": "3d31645d",
   "metadata": {},
   "outputs": [
    {
     "name": "stdout",
     "output_type": "stream",
     "text": [
      "Original array: [ 10  52  62  16  16  54 453]\n",
      "Sorted array: [ 10  16  16  52  54  62 453]\n",
      "Indices of sorted array: [0 3 4 1 5 2 6]\n",
      "4 smallest elements: [10 16 16 52]\n",
      "5 largest elements: [ 16  52  54  62 453]\n"
     ]
    }
   ],
   "source": [
    "# Question 2(a)\n",
    "array = np.array([10, 52, 62, 16, 16, 54, 453])\n",
    "print(\"Original array:\", array)\n",
    "print(\"Sorted array:\", np.sort(array))\n",
    "print(\"Indices of sorted array:\", np.argsort(array))\n",
    "print(\"4 smallest elements:\", np.sort(array)[:4])\n",
    "print(\"5 largest elements:\", np.sort(array)[-5:])\n"
   ]
  },
  {
   "cell_type": "code",
   "execution_count": 3,
   "id": "20b3eb23",
   "metadata": {},
   "outputs": [
    {
     "name": "stdout",
     "output_type": "stream",
     "text": [
      "Original float array: [1.  1.2 2.2 2.  3.  2. ]\n",
      "Integer elements only: [1. 2. 3. 2.]\n",
      "Float elements only: [1.2 2.2]\n"
     ]
    }
   ],
   "source": [
    "\n",
    "# Question 2(b)\n",
    "array_f = np.array([1.0, 1.2, 2.2, 2.0, 3.0, 2.0])\n",
    "print(\"Original float array:\", array_f)\n",
    "print(\"Integer elements only:\", array_f[array_f == array_f.astype(int)])\n",
    "print(\"Float elements only:\", array_f[array_f != array_f.astype(int)])\n"
   ]
  },
  {
   "cell_type": "code",
   "execution_count": 4,
   "id": "0b0a5f46",
   "metadata": {},
   "outputs": [
    {
     "name": "stdout",
     "output_type": "stream",
     "text": [
      "Generated sales data: [131 181 231 281 331]\n",
      "Sales after tax: [138.86 191.86 244.86 297.86 350.86]\n",
      "Sales after discount: [124.45 171.95 207.9  252.9  297.9 ]\n",
      "Sales matrix after weekly increase:\n",
      "[[131.   181.   231.   281.   331.  ]\n",
      " [133.62 184.62 235.62 286.62 337.62]\n",
      " [136.24 188.24 240.24 292.24 344.24]]\n"
     ]
    }
   ],
   "source": [
    "# Question 3\n",
    "initials_ascii_sum = sum(map(ord, \"AB\"))  # Replace \"AB\" with your initials\n",
    "X = initials_ascii_sum\n",
    "sales = np.array([X, X+50, X+100, X+150, X+200])\n",
    "print(\"Generated sales data:\", sales)\n",
    "\n",
    "tax_rate = ((X % 5) + 5) / 100\n",
    "sales_after_tax = sales * (1 + tax_rate)\n",
    "print(\"Sales after tax:\", sales_after_tax)\n",
    "\n",
    "sales_discounted = np.where(sales < X+100, sales * 0.95, sales * 0.90)\n",
    "print(\"Sales after discount:\", sales_discounted)\n",
    "\n",
    "sales_matrix = np.vstack([sales] * 3)\n",
    "sales_matrix = sales_matrix * np.array([1.00, 1.02, 1.04])[:, None]\n",
    "print(\"Sales matrix after weekly increase:\")\n",
    "print(sales_matrix)"
   ]
  },
  {
   "cell_type": "code",
   "execution_count": 5,
   "id": "f16e1d03",
   "metadata": {},
   "outputs": [
    {
     "data": {
      "image/png": "[encoded data removed]",
      "text/plain": [
       "<Figure size 720x432 with 1 Axes>"
      ]
     },
     "metadata": {
      "needs_background": "light"
     },
     "output_type": "display_data"
    }
   ],
   "source": [
    "# Question 4\n",
    "x = np.linspace(-10, 10, 100)\n",
    "y1 = x**2\n",
    "y2 = np.sin(x)\n",
    "y3 = np.exp(x)\n",
    "y4 = np.log(np.abs(x) + 1)\n",
    "\n",
    "plt.figure(figsize=(10, 6))\n",
    "plt.plot(x, y1, label=\"y = x^2\")\n",
    "plt.plot(x, y2, label=\"y = sin(x)\")\n",
    "plt.plot(x, y3, label=\"y = e^x\")\n",
    "plt.plot(x, y4, label=\"y = log(|x| + 1)\")\n",
    "plt.title(\"Function Plots\")\n",
    "plt.xlabel(\"x values\")\n",
    "plt.ylabel(\"y values\")\n",
    "plt.legend()\n",
    "plt.grid()\n",
    "plt.show()"
   ]
  },
  {
   "cell_type": "code",
   "execution_count": null,
   "id": "a6c9af3f",
   "metadata": {},
   "outputs": [],
   "source": []
  },
  {
   "cell_type": "code",
   "execution_count": null,
   "id": "30942d6c",
   "metadata": {},
   "outputs": [],
   "source": []
  }
 ],
 "metadata": {
  "kernelspec": {
   "display_name": "Python 3 (ipykernel)",
   "language": "python",
   "name": "python3"
  },
  "language_info": {
   "codemirror_mode": {
    "name": "ipython",
    "version": 3
   },
   "file_extension": ".py",
   "mimetype": "text/x-python",
   "name": "python",
   "nbconvert_exporter": "python",
   "pygments_lexer": "ipython3",
   "version": "3.9.12"
  }
 },
 "nbformat": 4,
 "nbformat_minor": 5
}
