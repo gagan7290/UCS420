{
 "cells": [
  {
   "cell_type": "code",
   "execution_count": 1,
   "id": "fc38d025-b551-48e7-9fec-428520cbe432",
   "metadata": {},
   "outputs": [
    {
     "name": "stdout",
     "output_type": "stream",
     "text": [
      "Original Array: [1 2 3 4 5]\n",
      "After Addition: [3 4 5 6 7]\n",
      "After Multiplication: [ 3  6  9 12 15]\n",
      "After Division: [0.5 1.  1.5 2.  2.5]\n"
     ]
    }
   ],
   "source": [
    "#Q1\n",
    "import numpy as np\n",
    "arr = np.array([1, 2, 3, 4, 5])\n",
    "add_arr = arr + 2\n",
    "mult_arr = arr * 3\n",
    "div_arr = arr / 2\n",
    "\n",
    "print(\"Original Array:\", arr)\n",
    "print(\"After Addition:\", add_arr)\n",
    "print(\"After Multiplication:\", mult_arr)\n",
    "print(\"After Division:\", div_arr)\n"
   ]
  },
  {
   "cell_type": "code",
   "execution_count": 6,
   "id": "c8714750-d10e-4ac0-b4ee-d12fb59e995d",
   "metadata": {},
   "outputs": [
    {
     "name": "stdout",
     "output_type": "stream",
     "text": [
      "(a) Final reversed array:  [5 4 3 2 1]\n",
      "(b)\n",
      "(i) Most Frequent in x: 1 at indices [0 5 7 8 9]\n",
      "(ii) Most Frequent in y: 1 at indices [0 1 2]\n"
     ]
    }
   ],
   "source": [
    "#Q2\n",
    "arr = np.array([1, 2, 3, 4, 5])\n",
    "import numpy as np\n",
    "res = np.flip(arr)\n",
    "\n",
    "print(\"(a) Final reversed array: \", res)\n",
    "x = np.array([1, 2, 3, 4, 5, 1, 2, 1, 1, 1])\n",
    "y = np.array([1, 1, 1, 2, 3, 4, 2, 4, 3, 3])\n",
    "def most_frequent(arr):\n",
    "    unique, counts = np.unique(arr, return_counts=True)\n",
    "    most_freq = unique[np.argmax(counts)]\n",
    "    indices = np.where(arr == most_freq)[0]\n",
    "    return most_freq, indices\n",
    "freq_x, indices_x = most_frequent(x)\n",
    "freq_y, indices_y = most_frequent(y)\n",
    "print(\"(b)\");\n",
    "print(\"(i) Most Frequent in x:\", freq_x, \"at indices\", indices_x)\n",
    "print(\"(ii) Most Frequent in y:\", freq_y, \"at indices\", indices_y)\n"
   ]
  },
  {
   "cell_type": "code",
   "execution_count": 8,
   "id": "87068c7b-1e8e-43d6-8dbe-4da2f03fb12e",
   "metadata": {},
   "outputs": [
    {
     "name": "stdout",
     "output_type": "stream",
     "text": [
      "(a) Element at (1st row, 2nd column): 20\n",
      "(b) Element at (3rd row, 1st column): 70\n"
     ]
    }
   ],
   "source": [
    "#Q3\n",
    "arr = np.array([[10, 20, 30], [40, 50, 60], [70, 80, 90]])\n",
    "element1 = arr[0, 1]\n",
    "element2 = arr[2, 0]\n",
    "\n",
    "print(\"(a) Element at (1st row, 2nd column):\", element1)\n",
    "print(\"(b) Element at (3rd row, 1st column):\", element2)\n"
   ]
  },
  {
   "cell_type": "code",
   "execution_count": 11,
   "id": "8f00cf03-c67e-42f9-9ef9-7d8fcc5d1370",
   "metadata": {},
   "outputs": [
    {
     "name": "stdout",
     "output_type": "stream",
     "text": [
      "Array: [ 10.    13.75  17.5   21.25  25.    28.75  32.5   36.25  40.    43.75\n",
      "  47.5   51.25  55.    58.75  62.5   66.25  70.    73.75  77.5   81.25\n",
      "  85.    88.75  92.5   96.25 100.  ]\n",
      "Dimensions: 1\n",
      "Shape: (25,)\n",
      "Total Elements: 25\n",
      "Data Type of Elements: float64\n",
      "Total Bytes Consumed: 200\n",
      "\n",
      "Transposed using reshape():\n",
      " [[ 10.  ]\n",
      " [ 13.75]\n",
      " [ 17.5 ]\n",
      " [ 21.25]\n",
      " [ 25.  ]\n",
      " [ 28.75]\n",
      " [ 32.5 ]\n",
      " [ 36.25]\n",
      " [ 40.  ]\n",
      " [ 43.75]\n",
      " [ 47.5 ]\n",
      " [ 51.25]\n",
      " [ 55.  ]\n",
      " [ 58.75]\n",
      " [ 62.5 ]\n",
      " [ 66.25]\n",
      " [ 70.  ]\n",
      " [ 73.75]\n",
      " [ 77.5 ]\n",
      " [ 81.25]\n",
      " [ 85.  ]\n",
      " [ 88.75]\n",
      " [ 92.5 ]\n",
      " [ 96.25]\n",
      " [100.  ]]\n",
      "\n",
      "Transposed using T attribute: [ 10.    13.75  17.5   21.25  25.    28.75  32.5   36.25  40.    43.75\n",
      "  47.5   51.25  55.    58.75  62.5   66.25  70.    73.75  77.5   81.25\n",
      "  85.    88.75  92.5   96.25 100.  ]\n",
      "Shape after T attribute: (25,)\n"
     ]
    }
   ],
   "source": [
    "#Q4\n",
    "gagan = np.linspace(10, 100, 25)\n",
    "\n",
    "\n",
    "print(\"Array:\", gagan)\n",
    "print(\"Dimensions:\", gagan.ndim)\n",
    "print(\"Shape:\", gagan.shape)\n",
    "print(\"Total Elements:\", gagan.size)\n",
    "print(\"Data Type of Elements:\", gagan.dtype)\n",
    "print(\"Total Bytes Consumed:\", gagan.nbytes)\n",
    "\n",
    "gagan_transposed = gagan.reshape(25, 1)\n",
    "print(\"\\nTransposed using reshape():\\n\", gagan_transposed)\n",
    "\n",
    "\n",
    "gagan_t = gagan.T  \n",
    "print(\"\\nTransposed using T attribute:\", gagan_t)\n",
    "print(\"Shape after T attribute:\", gagan_t.shape)"
   ]
  },
  {
   "cell_type": "code",
   "execution_count": 12,
   "id": "ca2a3543-8df4-414f-ba4a-f62d494540c6",
   "metadata": {},
   "outputs": [
    {
     "name": "stdout",
     "output_type": "stream",
     "text": [
      "\n",
      "Mean: 43.333333333333336\n",
      "Median: 37.5\n",
      "Max: 90\n",
      "Min: 10\n",
      "Unique Elements: [10 15 20 30 35 40 50 60 70 80 90]\n",
      "\n",
      "Reshaped Array (4x3):\n",
      " [[10 20 30]\n",
      " [40 50 60]\n",
      " [70 80 90]\n",
      " [15 20 35]]\n",
      "\n",
      "Resized Array (2x3):\n",
      " [[10 20 30]\n",
      " [40 50 60]]\n"
     ]
    }
   ],
   "source": [
    "#Q5\n",
    "ucs420_Gagan = np.array([[10, 20, 30, 40], [50, 60, 70, 80], [90, 15, 20, 35]])\n",
    "\n",
    "print(\"\\nMean:\", np.mean(ucs420_Gagan))\n",
    "print(\"Median:\", np.median(ucs420_Gagan))\n",
    "print(\"Max:\", np.max(ucs420_Gagan))\n",
    "print(\"Min:\", np.min(ucs420_Gagan))\n",
    "print(\"Unique Elements:\", np.unique(ucs420_Gagan))\n",
    "\n",
    "reshaped_ucs420_Gagan = ucs420_Gagan.reshape(4, 3)\n",
    "print(\"\\nReshaped Array (4x3):\\n\", reshaped_ucs420_Gagan)\n",
    "\n",
    "\n",
    "resized_ucs420_Gagan = np.resize(ucs420_Gagan, (2, 3))\n",
    "print(\"\\nResized Array (2x3):\\n\", resized_ucs420_Gagan)\n"
   ]
  },
  {
   "cell_type": "code",
   "execution_count": null,
   "id": "4cf63860-8caa-4006-bf65-c37dc0e7819b",
   "metadata": {},
   "outputs": [],
   "source": []
  }
 ],
 "metadata": {
  "kernelspec": {
   "display_name": "Python 3 (ipykernel)",
   "language": "python",
   "name": "python3"
  },
  "language_info": {
   "codemirror_mode": {
    "name": "ipython",
    "version": 3
   },
   "file_extension": ".py",
   "mimetype": "text/x-python",
   "name": "python",
   "nbconvert_exporter": "python",
   "pygments_lexer": "ipython3",
   "version": "3.12.4"
  }
 },
 "nbformat": 4,
 "nbformat_minor": 5
}
