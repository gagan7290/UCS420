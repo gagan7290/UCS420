{
 "cells": [
  {
   "cell_type": "code",
   "execution_count": 2,
   "id": "46d20505-074b-4877-b945-04c3b1296676",
   "metadata": {},
   "outputs": [
    {
     "name": "stdout",
     "output_type": "stream",
     "text": [
      "10  +  20  +  30  -->  60\n"
     ]
    }
   ],
   "source": [
    "#Assingment 2.1: WAP to add three numbers and print the result.\n",
    "\n",
    "a = 10\n",
    "b = 20\n",
    "c = 30\n",
    "d = a+b+c\n",
    "print (a, \" + \", b, \" + \", c,\" --> \", d)\n",
    "     "
   ]
  },
  {
   "cell_type": "code",
   "execution_count": 4,
   "id": "0bc710e7-d37c-466e-bc4d-6c91ca9219e0",
   "metadata": {},
   "outputs": [
    {
     "name": "stdout",
     "output_type": "stream",
     "text": [
      "Hello   +  world   +  again!  -->  Hello world again!\n"
     ]
    }
   ],
   "source": [
    "#Assingment 2.2: WAP to concatinate three strings and print the result.\n",
    "\n",
    "a = \"Hello \"\n",
    "b = \"world \"\n",
    "c = \"again!\"\n",
    "d = a+b+c\n",
    "print (a, \" + \", b, \" + \", c,\" --> \", d)\n",
    "     "
   ]
  }
 ],
 "metadata": {
  "kernelspec": {
   "display_name": "Python 3 (ipykernel)",
   "language": "python",
   "name": "python3"
  },
  "language_info": {
   "codemirror_mode": {
    "name": "ipython",
    "version": 3
   },
   "file_extension": ".py",
   "mimetype": "text/x-python",
   "name": "python",
   "nbconvert_exporter": "python",
   "pygments_lexer": "ipython3",
   "version": "3.11.7"
  }
 },
 "nbformat": 4,
 "nbformat_minor": 5
}
