{
 "cells": [
  {
   "cell_type": "code",
   "execution_count": 5,
   "id": "e4123d50-2a5c-4062-a38c-b97235542f61",
   "metadata": {},
   "outputs": [
    {
     "name": "stdout",
     "output_type": "stream",
     "text": [
      "TABLE OF 7\n",
      "7  *  0  =  0\n",
      "7  *  1  =  7\n",
      "7  *  2  =  14\n",
      "7  *  3  =  21\n",
      "7  *  4  =  28\n",
      "7  *  5  =  35\n",
      "7  *  6  =  42\n",
      "7  *  7  =  49\n",
      "7  *  8  =  56\n",
      "7  *  9  =  63\n",
      "7  *  10  =  70\n",
      "\n",
      "TABLE OF 9\n",
      "9  *  0  =  0\n",
      "9  *  1  =  9\n",
      "9  *  2  =  18\n",
      "9  *  3  =  27\n",
      "9  *  4  =  36\n",
      "9  *  5  =  45\n",
      "9  *  6  =  54\n",
      "9  *  7  =  63\n",
      "9  *  8  =  72\n",
      "9  *  9  =  81\n",
      "9  *  10  =  90\n"
     ]
    }
   ],
   "source": [
    "#WAP to print the table of 7, 9.\n",
    "\n",
    "print(\"TABLE OF 7\")\n",
    "for i in range(0,11):\n",
    "    print (7,\" * \", i , \" = \", i * 7)\n",
    "print(\"\\nTABLE OF 9\")\n",
    "for i in range(0,11):\n",
    "    print (9,\" * \", i , \" = \", i * 9)"
   ]
  },
  {
   "cell_type": "code",
   "execution_count": 9,
   "id": "b89b9d14-aeea-4e5a-975e-b6f750c5f944",
   "metadata": {},
   "outputs": [
    {
     "name": "stdin",
     "output_type": "stream",
     "text": [
      "Enter a number n:  11\n"
     ]
    },
    {
     "name": "stdout",
     "output_type": "stream",
     "text": [
      "TABLE OF  11\n",
      "11  *  0  =  0\n",
      "11  *  1  =  11\n",
      "11  *  2  =  22\n",
      "11  *  3  =  33\n",
      "11  *  4  =  44\n",
      "11  *  5  =  55\n",
      "11  *  6  =  66\n",
      "11  *  7  =  77\n",
      "11  *  8  =  88\n",
      "11  *  9  =  99\n",
      "11  *  10  =  110\n"
     ]
    }
   ],
   "source": [
    "#Assingment 4.2: WAP to print the table of n and n is given by user\n",
    "\n",
    "n = int(input(\"Enter a number n: \"))\n",
    "\n",
    "print(\"TABLE OF \", n)\n",
    "for i in range(0,11):\n",
    "    print (n,\" * \", i , \" = \", i * n)"
   ]
  },
  {
   "cell_type": "code",
   "execution_count": 11,
   "id": "a89fe90d-472e-4e0b-b2ac-428ea3881786",
   "metadata": {},
   "outputs": [
    {
     "name": "stdin",
     "output_type": "stream",
     "text": [
      "Enter a number n:  11\n"
     ]
    },
    {
     "name": "stdout",
     "output_type": "stream",
     "text": [
      "Sum is -->  66\n"
     ]
    }
   ],
   "source": [
    "#Assingment 4.3: WAP to add all the numbers from 1 to n and n is given by user\n",
    "\n",
    "n = int(input(\"Enter a number n: \"))\n",
    "print (\"Sum is --> \", sum(range(1,n+1)))"
   ]
  }
 ],
 "metadata": {
  "kernelspec": {
   "display_name": "Python 3 (ipykernel)",
   "language": "python",
   "name": "python3"
  },
  "language_info": {
   "codemirror_mode": {
    "name": "ipython",
    "version": 3
   },
   "file_extension": ".py",
   "mimetype": "text/x-python",
   "name": "python",
   "nbconvert_exporter": "python",
   "pygments_lexer": "ipython3",
   "version": "3.11.7"
  }
 },
 "nbformat": 4,
 "nbformat_minor": 5
}
