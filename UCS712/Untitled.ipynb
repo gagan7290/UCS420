{
 "cells": [
  {
   "cell_type": "code",
   "execution_count": 1,
   "id": "d559d497-87c6-4d8b-b212-5a2d8d237990",
   "metadata": {},
   "outputs": [
    {
     "name": "stdout",
     "output_type": "stream",
     "text": [
      "gagandeep singh\n",
      "gagandeep singh\n",
      "gagandeep singh\n"
     ]
    }
   ],
   "source": [
    "#printing name three times\n",
    "for i in range(3):\n",
    "    print(\"gagandeep singh\")\n",
    "    "
   ]
  },
  {
   "cell_type": "code",
   "execution_count": null,
   "id": "2d260851-8cd6-412c-ab6f-eea22d40e01b",
   "metadata": {},
   "outputs": [],
   "source": []
  },
  {
   "cell_type": "code",
   "execution_count": null,
   "id": "67d33be1-2aaf-4f82-ac6f-5c7c85751de6",
   "metadata": {},
   "outputs": [],
   "source": []
  }
 ],
 "metadata": {
  "kernelspec": {
   "display_name": "Python 3 (ipykernel)",
   "language": "python",
   "name": "python3"
  },
  "language_info": {
   "codemirror_mode": {
    "name": "ipython",
    "version": 3
   },
   "file_extension": ".py",
   "mimetype": "text/x-python",
   "name": "python",
   "nbconvert_exporter": "python",
   "pygments_lexer": "ipython3",
   "version": "3.11.7"
  }
 },
 "nbformat": 4,
 "nbformat_minor": 5
}
