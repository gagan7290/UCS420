{
 "cells": [
  {
   "cell_type": "code",
   "execution_count": 1,
   "id": "67867c78-37c2-40ef-89cc-dd96d9f8efc4",
   "metadata": {},
   "outputs": [
    {
     "name": "stdin",
     "output_type": "stream",
     "text": [
      "Enter three numbers separated by a space:  1 2 3\n"
     ]
    },
    {
     "name": "stdout",
     "output_type": "stream",
     "text": [
      "3\n"
     ]
    }
   ],
   "source": [
    "#Assingment 5.1: WAP to find max amoung three numbers and input from user. [Try max() function]\n",
    "\n",
    "a,b,c = input(\"Enter three numbers separated by a space: \").split()\n",
    "print(max(a,b,c))\n"
   ]
  },
  {
   "cell_type": "code",
   "execution_count": 3,
   "id": "2a4a103e-a40e-4e9a-adcc-6c3d7ab285c8",
   "metadata": {},
   "outputs": [
    {
     "name": "stdin",
     "output_type": "stream",
     "text": [
      "Enter value of n:  100\n"
     ]
    },
    {
     "name": "stdout",
     "output_type": "stream",
     "text": [
      "63\n"
     ]
    }
   ],
   "source": [
    "#Assingment 5.2: WAP to add all numbers divisible by 7 and 9 from 1 to n and n is given by the user.\n",
    "\n",
    "n = int(input(\"Enter value of n: \"))\n",
    "sum = 0\n",
    "for i in range(1, n+1):\n",
    "    if i % 7 == 0 and i % 9 == 0:\n",
    "        sum += i\n",
    "print(sum)"
   ]
  },
  {
   "cell_type": "code",
   "execution_count": 1,
   "id": "a28e3087-2606-4e37-ac03-8c706ec1969c",
   "metadata": {},
   "outputs": [
    {
     "name": "stdin",
     "output_type": "stream",
     "text": [
      "Enter value of n:  100\n"
     ]
    },
    {
     "name": "stdout",
     "output_type": "stream",
     "text": [
      "1060\n"
     ]
    }
   ],
   "source": [
    "#Assingment 5.3: WAP to add all prime numbers from 1 to n and n is given by the user.\n",
    "\n",
    "n = int(input(\"Enter value of n: \"))\n",
    "sum = 0\n",
    "\n",
    "def checkPrime(n):\n",
    "    f=0\n",
    "    for i in range(2, n//2 + 1):\n",
    "    \tif  n % i == 0:\n",
    "    \t\tf=1\n",
    "    \t\tbreak\n",
    "\n",
    "    if f==0:\n",
    "    \treturn 1\n",
    "    else:\n",
    "    \treturn 0\n",
    "\n",
    "for i in range(2, n+1):\n",
    "    if(checkPrime(i)):\n",
    "        sum += i\n",
    "print(sum)"
   ]
  }
 ],
 "metadata": {
  "kernelspec": {
   "display_name": "Python 3 (ipykernel)",
   "language": "python",
   "name": "python3"
  },
  "language_info": {
   "codemirror_mode": {
    "name": "ipython",
    "version": 3
   },
   "file_extension": ".py",
   "mimetype": "text/x-python",
   "name": "python",
   "nbconvert_exporter": "python",
   "pygments_lexer": "ipython3",
   "version": "3.11.7"
  }
 },
 "nbformat": 4,
 "nbformat_minor": 5
}
