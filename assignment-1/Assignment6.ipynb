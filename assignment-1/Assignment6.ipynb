{
 "cells": [
  {
   "cell_type": "code",
   "execution_count": 5,
   "id": "c7fbf670-4662-4489-8af4-066ae345ed06",
   "metadata": {},
   "outputs": [
    {
     "name": "stdin",
     "output_type": "stream",
     "text": [
      "Enter value of n:  10\n"
     ]
    },
    {
     "name": "stdout",
     "output_type": "stream",
     "text": [
      "25\n"
     ]
    }
   ],
   "source": [
    "#Assingment 6.1: WAP using function that add all odd numbers from 1 to n, n is given by the user.\n",
    "\n",
    "n = int(input(\"Enter value of n: \"))\n",
    "def checkOdd(n):\n",
    "    if(n % 2 == 0):\n",
    "        return 0\n",
    "    return 1\n",
    "sum = 0\n",
    "for i in range(1, n+1):\n",
    "    if(checkOdd(i)):\n",
    "       sum += i\n",
    "\n",
    "\n",
    "print(sum)"
   ]
  },
  {
   "cell_type": "code",
   "execution_count": 1,
   "id": "ffd6da64-4d35-4aa2-ace9-47e9f7cec81d",
   "metadata": {},
   "outputs": [
    {
     "name": "stdin",
     "output_type": "stream",
     "text": [
      "Enter value of n:  100\n"
     ]
    },
    {
     "name": "stdout",
     "output_type": "stream",
     "text": [
      "1060\n"
     ]
    }
   ],
   "source": [
    "#Assingment 6.2: WAP using function that add all prime numbers from 1 to n, n given by the user.\n",
    "\n",
    "n = int(input(\"Enter value of n: \"))\n",
    "\n",
    "def checkPrime(n):\n",
    "\tfor i in range(2, n//2 + 1):\n",
    "\t\tif n%i==0:\n",
    "\t\t\treturn 0\n",
    "\treturn 1\n",
    "sum = 0\n",
    "for i in range(2, n+1):\n",
    "    if(checkPrime(i)):\n",
    "        sum += i\n",
    "print(sum)"
   ]
  }
 ],
 "metadata": {
  "kernelspec": {
   "display_name": "Python 3 (ipykernel)",
   "language": "python",
   "name": "python3"
  },
  "language_info": {
   "codemirror_mode": {
    "name": "ipython",
    "version": 3
   },
   "file_extension": ".py",
   "mimetype": "text/x-python",
   "name": "python",
   "nbconvert_exporter": "python",
   "pygments_lexer": "ipython3",
   "version": "3.11.7"
  }
 },
 "nbformat": 4,
 "nbformat_minor": 5
}
